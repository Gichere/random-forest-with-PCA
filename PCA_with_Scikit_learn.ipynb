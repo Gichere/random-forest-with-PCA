{
  "nbformat": 4,
  "nbformat_minor": 0,
  "metadata": {
    "colab": {
      "name": "PCA with Scikit-learn.ipynb",
      "provenance": [],
      "authorship_tag": "ABX9TyMeKN8nS4FbvaYR7Mc7CMOe",
      "include_colab_link": true
    },
    "kernelspec": {
      "name": "python3",
      "display_name": "Python 3"
    }
  },
  "cells": [
    {
      "cell_type": "markdown",
      "metadata": {
        "id": "view-in-github",
        "colab_type": "text"
      },
      "source": [
        "<a href=\"https://colab.research.google.com/github/Gichere/random-forest-with-PCA/blob/main/PCA_with_Scikit_learn.ipynb\" target=\"_parent\"><img src=\"https://colab.research.google.com/assets/colab-badge.svg\" alt=\"Open In Colab\"/></a>"
      ]
    },
    {
      "cell_type": "markdown",
      "metadata": {
        "id": "ZtJAId_aHb53"
      },
      "source": [
        "# Implementing PCA with Scikit-Learn\n",
        "In this project PCA will be implemented with the help of Python's Scikit-Learn library. The classical machine learning pipeline will be followed where, first, import libraries and dataset, perform exploratory data analysis and preprocessing, and finally train the models, make predictions and evaluate accuracies. The only additional step is perform PCA to find out optimal number of features before training the models."
      ]
    },
    {
      "cell_type": "markdown",
      "metadata": {
        "id": "yA8OXzBXEzVt"
      },
      "source": [
        "There are various factors that cause performance bottlenecks while developing machine learning models. Large number of features in the dataset is one of the factors that affect both the training time as well as accuracy of machine learning models. There are different options to deal with huge number of features in a dataset.\n",
        "\n",
        "*   Try to train the models on original number of features, which take days or weeks if the number of features is too high.\n",
        "*   Reduce the number of variables by merging correlated variables.\n",
        "*   Extract the most important features from the dataset that are responsible for maximum variance in the output. Different statistical techniques are used for this purpose e.g. linear discriminant analysis, factor analysis, and principal component analysis."
      ]
    },
    {
      "cell_type": "markdown",
      "metadata": {
        "id": "rjuLBKzxFey_"
      },
      "source": [
        "# Principal Component Analysis (PCA)\n",
        "PCA is a statistical technique to convert high dimensional data to low dimensional data by selecting the most important features that capture maximum information about the dataset. The features are selected on the basis of variance that they cause in the output. The feature that causes highest variance is the first principal component. The feature that is responsible for second highest variance is considered the second principal component, and so on. It is important to mention that principal components do not have any correlation with each other.\n",
        "## Advantages of PCA\n",
        "*   It is not always possible to analyze data in high dimensions. For instance if there are 100 features in a dataset. Total number of scatter plots required to visualize the data would be 100(100-1)2 = 4950. Practically it is not possible to analyze data this way.\n",
        "*   The training time of the algorithms reduces significantly with less number of features.\n",
        "\n",
        "## Normalization of Features\n",
        "It is important to mention that a feature set must be normalized before applying PCA. For instance if a feature set has data expressed in units of Kilograms, Light years, or Millions, the variance scale is huge in the training set. If PCA is applied on such a feature set, the resultant loadings for features with high variance will also be large. Hence, principal components will be biased towards features with high variance, leading to false results.\n",
        "\n",
        "Finally, the last point to remember is that PCA is a statistical technique and can only be applied to numeric data. Therefore, categorical features are required to be converted into numerical features before PCA can be applied."
      ]
    },
    {
      "cell_type": "markdown",
      "metadata": {
        "id": "H94bUM15IYzs"
      },
      "source": [
        "## Importing the libraries"
      ]
    },
    {
      "cell_type": "code",
      "metadata": {
        "id": "tC4t4y-6ERRC"
      },
      "source": [
        "import numpy as np\n",
        "import pandas as pd\n",
        "import matplotlib\n",
        "import matplotlib.pyplot as plt\n",
        "from sklearn.model_selection import train_test_split\n",
        "from sklearn.preprocessing import StandardScaler\n",
        "from sklearn.decomposition import PCA\n",
        "from sklearn.ensemble import RandomForestClassifier\n",
        "from sklearn.metrics import confusion_matrix\n",
        "from sklearn.metrics import accuracy_score"
      ],
      "execution_count": 131,
      "outputs": []
    },
    {
      "cell_type": "markdown",
      "metadata": {
        "id": "j80qkKWsId8m"
      },
      "source": [
        "## Importing the data\n",
        "In this PCA project, Iris dataset will be used"
      ]
    },
    {
      "cell_type": "code",
      "metadata": {
        "id": "w2jdnoe4Iiby"
      },
      "source": [
        "url = \"https://raw.githubusercontent.com/Gichere/datasets/main/iris.data\"\n",
        "names = ['sepal-length', 'sepal-width', 'petal-length', 'petal-width', 'Class']\n",
        "dataset = pd.read_csv(url, names=names)"
      ],
      "execution_count": 132,
      "outputs": []
    },
    {
      "cell_type": "markdown",
      "metadata": {
        "id": "yFa9GPxxLbzG"
      },
      "source": [
        "The dataset consists of 150 records of Iris plant with four features: 'sepal-length', 'sepal-width', 'petal-length', and 'petal-width'. All of the features are numeric. The records have been classified into one of the three classes i.e. 'Iris-setosa', 'Iris-versicolor', or 'Iris-verginica'"
      ]
    },
    {
      "cell_type": "code",
      "metadata": {
        "colab": {
          "base_uri": "https://localhost:8080/",
          "height": 194
        },
        "id": "-hVfl9afK7Qu",
        "outputId": "3c2ccd75-0857-43a7-a80d-9f0344671cc9"
      },
      "source": [
        "# Inspecting the first five rows of the dataset\n",
        "dataset.head()"
      ],
      "execution_count": 133,
      "outputs": [
        {
          "output_type": "execute_result",
          "data": {
            "text/html": [
              "<div>\n",
              "<style scoped>\n",
              "    .dataframe tbody tr th:only-of-type {\n",
              "        vertical-align: middle;\n",
              "    }\n",
              "\n",
              "    .dataframe tbody tr th {\n",
              "        vertical-align: top;\n",
              "    }\n",
              "\n",
              "    .dataframe thead th {\n",
              "        text-align: right;\n",
              "    }\n",
              "</style>\n",
              "<table border=\"1\" class=\"dataframe\">\n",
              "  <thead>\n",
              "    <tr style=\"text-align: right;\">\n",
              "      <th></th>\n",
              "      <th>sepal-length</th>\n",
              "      <th>sepal-width</th>\n",
              "      <th>petal-length</th>\n",
              "      <th>petal-width</th>\n",
              "      <th>Class</th>\n",
              "    </tr>\n",
              "  </thead>\n",
              "  <tbody>\n",
              "    <tr>\n",
              "      <th>0</th>\n",
              "      <td>5.1</td>\n",
              "      <td>3.5</td>\n",
              "      <td>1.4</td>\n",
              "      <td>0.2</td>\n",
              "      <td>Iris-setosa</td>\n",
              "    </tr>\n",
              "    <tr>\n",
              "      <th>1</th>\n",
              "      <td>4.9</td>\n",
              "      <td>3.0</td>\n",
              "      <td>1.4</td>\n",
              "      <td>0.2</td>\n",
              "      <td>Iris-setosa</td>\n",
              "    </tr>\n",
              "    <tr>\n",
              "      <th>2</th>\n",
              "      <td>4.7</td>\n",
              "      <td>3.2</td>\n",
              "      <td>1.3</td>\n",
              "      <td>0.2</td>\n",
              "      <td>Iris-setosa</td>\n",
              "    </tr>\n",
              "    <tr>\n",
              "      <th>3</th>\n",
              "      <td>4.6</td>\n",
              "      <td>3.1</td>\n",
              "      <td>1.5</td>\n",
              "      <td>0.2</td>\n",
              "      <td>Iris-setosa</td>\n",
              "    </tr>\n",
              "    <tr>\n",
              "      <th>4</th>\n",
              "      <td>5.0</td>\n",
              "      <td>3.6</td>\n",
              "      <td>1.4</td>\n",
              "      <td>0.2</td>\n",
              "      <td>Iris-setosa</td>\n",
              "    </tr>\n",
              "  </tbody>\n",
              "</table>\n",
              "</div>"
            ],
            "text/plain": [
              "   sepal-length  sepal-width  petal-length  petal-width        Class\n",
              "0           5.1          3.5           1.4          0.2  Iris-setosa\n",
              "1           4.9          3.0           1.4          0.2  Iris-setosa\n",
              "2           4.7          3.2           1.3          0.2  Iris-setosa\n",
              "3           4.6          3.1           1.5          0.2  Iris-setosa\n",
              "4           5.0          3.6           1.4          0.2  Iris-setosa"
            ]
          },
          "metadata": {
            "tags": []
          },
          "execution_count": 133
        }
      ]
    },
    {
      "cell_type": "markdown",
      "metadata": {
        "id": "PiApSuzWLxtZ"
      },
      "source": [
        "# Preprocessing\n",
        "The first preprocessing step is to divide the dataset into a feature set and corresponding labels.\n",
        "The next step is to divide the dataset into training and testing set"
      ]
    },
    {
      "cell_type": "code",
      "metadata": {
        "id": "D5yPkPuILmZ0"
      },
      "source": [
        "X = dataset.drop('Class', 1)\n",
        "y = dataset['Class']\n",
        "# The script above stores the feature sets into the X variable and \n",
        "# the series of corresponding labels in to the y variable."
      ],
      "execution_count": 134,
      "outputs": []
    },
    {
      "cell_type": "code",
      "metadata": {
        "id": "xB_kaFUkMWS2"
      },
      "source": [
        "# Dividing the dataset into training and testing sets\n",
        "X_train, X_test, y_train, y_test = train_test_split(X, y, test_size=0.2, random_state=0)"
      ],
      "execution_count": 135,
      "outputs": []
    },
    {
      "cell_type": "markdown",
      "metadata": {
        "id": "HmEB00PYNRkY"
      },
      "source": [
        "As mentioned earlier, PCA performs best with a normalized feature set. Standard scalar normalization will be used to normalize the feature set"
      ]
    },
    {
      "cell_type": "code",
      "metadata": {
        "id": "jff2-41ENLWB"
      },
      "source": [
        "#Normalizing the features\n",
        "sc = StandardScaler()\n",
        "X_train = sc.fit_transform(X_train)\n",
        "X_test = sc.transform(X_test)"
      ],
      "execution_count": 136,
      "outputs": []
    },
    {
      "cell_type": "markdown",
      "metadata": {
        "id": "L4w6TnIzOHY7"
      },
      "source": [
        "## Implementing PCA\n",
        "PCA depends only upon the feature set and not the label data. \n"
      ]
    },
    {
      "cell_type": "code",
      "metadata": {
        "id": "xoqs7RrSOLnk"
      },
      "source": [
        "pca = PCA(n_components=3)\n",
        "X_train = pca.fit_transform(X_train)\n",
        "X_test = pca.transform(X_test)\n",
        "# in this code, a PCA object named pca is created. Usually the number of\n",
        "# components is defined in the constructor but it was not defined here hence\n",
        "# all the features in the feature set will be returned by the transform method\n",
        "# for both training and testing sets."
      ],
      "execution_count": 137,
      "outputs": []
    },
    {
      "cell_type": "code",
      "metadata": {
        "id": "YcwjRPjlO-GQ"
      },
      "source": [
        "explained_variance = pca.explained_variance_ratio_\n",
        "# he PCA class contains explained_variance_ratio_ which returns the variance caused\n",
        "# by each of the principal components. \n",
        "# The explained_variance variable is now a float type array which contains variance\n",
        "# ratios for each principal component"
      ],
      "execution_count": 138,
      "outputs": []
    },
    {
      "cell_type": "code",
      "metadata": {
        "colab": {
          "base_uri": "https://localhost:8080/"
        },
        "id": "yU8kamU6QX9p",
        "outputId": "f8c75e28-fdbb-4255-e152-b5a23952b0a1"
      },
      "source": [
        "explained_variance"
      ],
      "execution_count": 139,
      "outputs": [
        {
          "output_type": "execute_result",
          "data": {
            "text/plain": [
              "array([0.72226528, 0.23974795, 0.03338117])"
            ]
          },
          "metadata": {
            "tags": []
          },
          "execution_count": 139
        }
      ]
    },
    {
      "cell_type": "markdown",
      "metadata": {
        "id": "Fb7F9OBkQw9a"
      },
      "source": [
        "It can be seen that first principal component is responsible for 76.13% variance. Similarly, the second principal component causes 17.54% variance in the dataset. Collectively we can say that (76.13 + 17.54) 93.67% percent of the classification information contained in the feature set is captured by the first two principal components."
      ]
    },
    {
      "cell_type": "markdown",
      "metadata": {
        "id": "I_kJEGbkq9Fu"
      },
      "source": [
        "## Training and making Predictions using Random Forest algorithm"
      ]
    },
    {
      "cell_type": "code",
      "metadata": {
        "colab": {
          "base_uri": "https://localhost:8080/"
        },
        "id": "gXHNpAnrrCRk",
        "outputId": "d2cfd118-e325-416f-f235-620e68763d74"
      },
      "source": [
        "classifier = RandomForestClassifier(max_depth=2, random_state=0)\n",
        "classifier.fit(X_train, y_train)"
      ],
      "execution_count": 140,
      "outputs": [
        {
          "output_type": "execute_result",
          "data": {
            "text/plain": [
              "RandomForestClassifier(bootstrap=True, ccp_alpha=0.0, class_weight=None,\n",
              "                       criterion='gini', max_depth=2, max_features='auto',\n",
              "                       max_leaf_nodes=None, max_samples=None,\n",
              "                       min_impurity_decrease=0.0, min_impurity_split=None,\n",
              "                       min_samples_leaf=1, min_samples_split=2,\n",
              "                       min_weight_fraction_leaf=0.0, n_estimators=100,\n",
              "                       n_jobs=None, oob_score=False, random_state=0, verbose=0,\n",
              "                       warm_start=False)"
            ]
          },
          "metadata": {
            "tags": []
          },
          "execution_count": 140
        }
      ]
    },
    {
      "cell_type": "code",
      "metadata": {
        "id": "mBg_iG3prvWc"
      },
      "source": [
        "# Predicting the test set results\n",
        "y_pred = classifier.predict(X_test)"
      ],
      "execution_count": 141,
      "outputs": []
    },
    {
      "cell_type": "markdown",
      "metadata": {
        "id": "cVHzpuybr5e6"
      },
      "source": [
        "## Performance Evaluation"
      ]
    },
    {
      "cell_type": "code",
      "metadata": {
        "colab": {
          "base_uri": "https://localhost:8080/"
        },
        "id": "6vvoCln_r4al",
        "outputId": "1b4a0535-fc9b-436e-a519-be94745dcf6c"
      },
      "source": [
        "cm = confusion_matrix(y_test, y_pred)\n",
        "print(cm)\n",
        "print('Accuracy', accuracy_score(y_test, y_pred))"
      ],
      "execution_count": 142,
      "outputs": [
        {
          "output_type": "stream",
          "text": [
            "[[11  0  0]\n",
            " [ 0  8  5]\n",
            " [ 0  1  5]]\n",
            "Accuracy 0.8\n"
          ],
          "name": "stdout"
        }
      ]
    },
    {
      "cell_type": "markdown",
      "metadata": {
        "id": "JhWeYJsnuUNu"
      },
      "source": [
        "It can be seen from the output that using all the features, the random forest algorithm is able to correctly predict with 90% accuracy.\n",
        "Before deciding on using all the components, I run the model using 1, 2 and 3 components with accuracy levels of 93.3%, 80%, and 80% respectively.\n",
        "It is important to mention that the accuracy of a classifier doesn't necessarily improve with increased number of principal components as proven above.The number of principal components to retain in a feature set depends on several conditions such as storage capacity, training time, performance, etc. In some dataset all the features are contributing equally to the overall variance, therefore all the principal components are crucial to the predictions and none can be ignored. \n",
        "A general rule of thumb is to take number of principal of principal components that contribute to significant variance and ignore those with diminishing variance returns."
      ]
    },
    {
      "cell_type": "code",
      "metadata": {
        "colab": {
          "base_uri": "https://localhost:8080/",
          "height": 295
        },
        "id": "VMOGtYZeitkl",
        "outputId": "819f1560-3a4a-494e-9167-2585b766c2dd"
      },
      "source": [
        "PC_values = np.arange(pca.n_components_) + 1\n",
        "plt.plot(PC_values, pca.explained_variance_ratio_, 'ro-', linewidth=2)\n",
        "plt.title('Scree Plot')\n",
        "plt.xlabel('Principal Component')\n",
        "plt.ylabel('Proportion of Variance Explained')\n",
        "plt.show()"
      ],
      "execution_count": 145,
      "outputs": [
        {
          "output_type": "display_data",
          "data": {
            "image/png": "[encoded data removed]",
            "text/plain": [
              "<Figure size 432x288 with 1 Axes>"
            ]
          },
          "metadata": {
            "tags": [],
            "needs_background": "light"
          }
        }
      ]
    },
    {
      "cell_type": "markdown",
      "metadata": {
        "id": "Fc0T8uADkOrd"
      },
      "source": [
        "Plotting the variance against principal components and ignoring the principal components with diminishing values as shown in the following graph above.\n",
        "In the chart above, it cn be seen that after the third principal component the change in variance almost diminishes. Therefore, first three components can be selected and the last one is ignored.\n"
      ]
    }
  ]
}